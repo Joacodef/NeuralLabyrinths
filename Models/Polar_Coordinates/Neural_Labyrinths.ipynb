{
 "cells": [
  {
   "cell_type": "code",
   "execution_count": 20,
   "metadata": {},
   "outputs": [
    {
     "name": "stdout",
     "output_type": "stream",
     "text": [
      "(3000, 3)\n",
      "(1500, 3)\n"
     ]
    }
   ],
   "source": [
    "import tensorflow as tf\n",
    "import sklearn\n",
    "import numpy as np\n",
    "import pandas as pd\n",
    "import matplotlib.pyplot as plt\n",
    "from keras.callbacks import EarlyStopping\n",
    "import keras_tuner as kt\n",
    "\n",
    "# constantes\n",
    "BATCH_SIZE = 32\n",
    "EPOCHS = 300\n",
    "NEURONS = 100\n",
    "LAYERS = 5\n",
    "VAL_SIZE = 0.2\n",
    "TEST_SIZE = 0\n",
    "MODE = \"polar\" # \"polar\" or \"cartesian\"\n",
    "\n",
    "def set_parameters(batch_size = 32, epochs = 300, learning_rate = 0.1, neurons = 100, layers = 5):\n",
    "  global BATCH_SIZE, EPOCHS, LEARNING_RATE, NEURONS, LAYERS\n",
    "  BATCH_SIZE = batch_size\n",
    "  EPOCHS = epochs\n",
    "  LEARNING_RATE = learning_rate\n",
    "  NEURONS = neurons\n",
    "  LAYERS = layers\n",
    "\n",
    "if MODE == \"polar\":\n",
    "  train_data = pd.read_csv('train_polar.csv')\n",
    "  test_data_final = pd.read_csv('test_polar.csv')\n",
    "else:\n",
    "  train_data = pd.read_csv('train.csv')\n",
    "  test_data_final = pd.read_csv('test_x.csv')\n",
    "\n",
    "print(train_data.shape)\n",
    "print(test_data_final.shape)"
   ]
  },
  {
   "cell_type": "code",
   "execution_count": 7,
   "metadata": {},
   "outputs": [
    {
     "name": "stdout",
     "output_type": "stream",
     "text": [
      "(600, 3)\n",
      "(2400, 3)\n"
     ]
    }
   ],
   "source": [
    "from sklearn.model_selection import train_test_split\n",
    "\n",
    "# Generate a validation set from the training data, taking VAL_SIZE*100% of the data\n",
    "\n",
    "train_data = train_data.sample(frac=1).reset_index(drop=True)\n",
    "\n",
    "# Split the data into train and test sets\n",
    "if TEST_SIZE > 0:\n",
    "    train_data, test_data = train_test_split(train_data, test_size=TEST_SIZE)\n",
    "    print(test_data.shape)\n",
    "\n",
    "if VAL_SIZE > 0:\n",
    "    train_data, val_data = train_test_split(train_data, test_size=VAL_SIZE/(1-TEST_SIZE))\n",
    "    print(val_data.shape)\n",
    "\n",
    "print(train_data.shape)"
   ]
  },
  {
   "cell_type": "code",
   "execution_count": 8,
   "metadata": {},
   "outputs": [
    {
     "name": "stdout",
     "output_type": "stream",
     "text": [
      "(2400, 2)\n",
      "(2400,)\n"
     ]
    }
   ],
   "source": [
    "if TEST_SIZE > 0:\n",
    "    # Save the labels of the test set\n",
    "    test_labels = test_data['Category']\n",
    "\n",
    "    if 'Category' in test_data.columns:\n",
    "        test_data = test_data.drop(['Category'], axis=1)\n",
    "        print(test_data.shape)\n",
    "# Split the data into coordinates and labels\n",
    "if MODE == \"polar\":\n",
    "    features_train = ['r', 'theta']\n",
    "else:\n",
    "    features_train = ['x1', 'x2']\n",
    "x_train = train_data[features_train]\n",
    "y_train = train_data['Category']\n",
    "print(x_train.shape)\n",
    "print(y_train.shape)"
   ]
  },
  {
   "cell_type": "code",
   "execution_count": 51,
   "metadata": {},
   "outputs": [
    {
     "name": "stdout",
     "output_type": "stream",
     "text": [
      "Epoch 1/300\n",
      "2400/2400 [==============================] - 4s 1ms/step - loss: 1.0957 - accuracy: 0.3554 - val_loss: 1.1218 - val_accuracy: 0.3817\n",
      "Epoch 2/300\n",
      "2400/2400 [==============================] - 3s 1ms/step - loss: 1.0712 - accuracy: 0.3783 - val_loss: 1.0795 - val_accuracy: 0.3550\n",
      "Epoch 3/300\n",
      "2400/2400 [==============================] - 3s 1ms/step - loss: 1.0442 - accuracy: 0.4054 - val_loss: 1.0454 - val_accuracy: 0.4483\n",
      "Epoch 4/300\n",
      "2400/2400 [==============================] - 3s 1ms/step - loss: 0.9941 - accuracy: 0.4567 - val_loss: 0.9999 - val_accuracy: 0.4583\n",
      "Epoch 5/300\n",
      "2400/2400 [==============================] - 3s 1ms/step - loss: 0.9523 - accuracy: 0.5021 - val_loss: 0.9640 - val_accuracy: 0.4650\n",
      "Epoch 6/300\n",
      "2400/2400 [==============================] - 3s 1ms/step - loss: 0.8871 - accuracy: 0.5462 - val_loss: 0.8817 - val_accuracy: 0.5267\n",
      "Epoch 7/300\n",
      "2400/2400 [==============================] - 3s 1ms/step - loss: 0.8029 - accuracy: 0.6121 - val_loss: 0.7855 - val_accuracy: 0.6700\n",
      "Epoch 8/300\n",
      "2400/2400 [==============================] - 3s 1ms/step - loss: 0.7121 - accuracy: 0.6696 - val_loss: 0.7181 - val_accuracy: 0.6650\n",
      "Epoch 9/300\n",
      "2400/2400 [==============================] - 3s 1ms/step - loss: 0.6104 - accuracy: 0.7367 - val_loss: 0.6063 - val_accuracy: 0.7733\n",
      "Epoch 10/300\n",
      "2400/2400 [==============================] - 3s 1ms/step - loss: 0.5263 - accuracy: 0.7896 - val_loss: 0.4520 - val_accuracy: 0.8500\n",
      "Epoch 11/300\n",
      "2400/2400 [==============================] - 3s 1ms/step - loss: 0.4452 - accuracy: 0.8121 - val_loss: 0.3886 - val_accuracy: 0.8267\n",
      "Epoch 12/300\n",
      "2400/2400 [==============================] - 3s 1ms/step - loss: 0.4245 - accuracy: 0.8058 - val_loss: 0.3521 - val_accuracy: 0.8517\n",
      "Epoch 13/300\n",
      "2400/2400 [==============================] - 3s 1ms/step - loss: 0.3843 - accuracy: 0.8229 - val_loss: 0.3131 - val_accuracy: 0.8633\n",
      "Epoch 14/300\n",
      "2400/2400 [==============================] - 3s 1ms/step - loss: 0.3474 - accuracy: 0.8246 - val_loss: 0.3172 - val_accuracy: 0.8400\n",
      "Epoch 15/300\n",
      "2400/2400 [==============================] - 3s 1ms/step - loss: 0.3417 - accuracy: 0.8217 - val_loss: 0.2983 - val_accuracy: 0.8517\n",
      "Epoch 16/300\n",
      "2400/2400 [==============================] - 3s 1ms/step - loss: 0.3218 - accuracy: 0.8396 - val_loss: 0.2720 - val_accuracy: 0.8583\n",
      "Epoch 17/300\n",
      "2400/2400 [==============================] - 3s 1ms/step - loss: 0.3261 - accuracy: 0.8592 - val_loss: 0.2894 - val_accuracy: 0.8583\n",
      "Epoch 18/300\n",
      "2400/2400 [==============================] - 3s 1ms/step - loss: 0.2857 - accuracy: 0.8779 - val_loss: 0.3497 - val_accuracy: 0.8333\n",
      "Epoch 19/300\n",
      "2400/2400 [==============================] - 3s 1ms/step - loss: 0.4418 - accuracy: 0.7842 - val_loss: 0.4001 - val_accuracy: 0.7850\n",
      "Epoch 20/300\n",
      "2400/2400 [==============================] - 4s 1ms/step - loss: 0.3701 - accuracy: 0.8087 - val_loss: 0.3315 - val_accuracy: 0.8183\n",
      "Epoch 21/300\n",
      "2400/2400 [==============================] - 3s 1ms/step - loss: 0.2845 - accuracy: 0.8746 - val_loss: 0.1990 - val_accuracy: 0.9783\n",
      "Epoch 22/300\n",
      "2400/2400 [==============================] - 3s 1ms/step - loss: 0.1692 - accuracy: 0.9650 - val_loss: 0.0966 - val_accuracy: 0.9900\n",
      "Epoch 23/300\n",
      "2400/2400 [==============================] - 4s 2ms/step - loss: 0.0952 - accuracy: 0.9721 - val_loss: 0.0622 - val_accuracy: 0.9900\n",
      "Epoch 24/300\n",
      "2400/2400 [==============================] - 3s 1ms/step - loss: 0.0726 - accuracy: 0.9750 - val_loss: 0.2931 - val_accuracy: 0.8933\n",
      "Epoch 25/300\n",
      "2400/2400 [==============================] - 3s 1ms/step - loss: 0.1148 - accuracy: 0.9717 - val_loss: 0.0392 - val_accuracy: 0.9900\n",
      "Epoch 26/300\n",
      "2400/2400 [==============================] - 3s 1ms/step - loss: 0.0580 - accuracy: 0.9808 - val_loss: 0.0297 - val_accuracy: 1.0000\n",
      "Epoch 27/300\n",
      "2400/2400 [==============================] - 4s 1ms/step - loss: 0.0528 - accuracy: 0.9871 - val_loss: 0.0216 - val_accuracy: 0.9983\n",
      "Epoch 28/300\n",
      "2400/2400 [==============================] - 4s 2ms/step - loss: 0.1129 - accuracy: 0.9804 - val_loss: 0.0310 - val_accuracy: 0.9900\n",
      "Epoch 29/300\n",
      "2400/2400 [==============================] - 4s 2ms/step - loss: 0.0279 - accuracy: 0.9908 - val_loss: 0.0245 - val_accuracy: 0.9983\n",
      "Epoch 30/300\n",
      "2400/2400 [==============================] - 3s 1ms/step - loss: 0.0453 - accuracy: 0.9846 - val_loss: 0.0115 - val_accuracy: 1.0000\n",
      "Epoch 31/300\n",
      "2400/2400 [==============================] - 4s 1ms/step - loss: 0.0323 - accuracy: 0.9904 - val_loss: 0.0119 - val_accuracy: 1.0000\n",
      "Epoch 32/300\n",
      "2400/2400 [==============================] - 3s 1ms/step - loss: 0.0822 - accuracy: 0.9833 - val_loss: 0.0190 - val_accuracy: 0.9967\n",
      "Epoch 33/300\n",
      "2400/2400 [==============================] - 3s 1ms/step - loss: 0.0207 - accuracy: 0.9950 - val_loss: 0.0090 - val_accuracy: 1.0000\n",
      "Epoch 34/300\n",
      "2400/2400 [==============================] - 3s 1ms/step - loss: 0.0328 - accuracy: 0.9879 - val_loss: 0.0069 - val_accuracy: 1.0000\n",
      "Epoch 35/300\n",
      "2400/2400 [==============================] - 4s 2ms/step - loss: 0.0147 - accuracy: 0.9971 - val_loss: 0.0049 - val_accuracy: 1.0000\n",
      "Epoch 36/300\n",
      "2400/2400 [==============================] - 4s 2ms/step - loss: 0.0335 - accuracy: 0.9912 - val_loss: 0.0113 - val_accuracy: 1.0000\n",
      "Epoch 37/300\n",
      "2400/2400 [==============================] - 3s 1ms/step - loss: 0.0749 - accuracy: 0.9875 - val_loss: 0.0057 - val_accuracy: 1.0000\n",
      "Epoch 38/300\n",
      "2400/2400 [==============================] - 3s 1ms/step - loss: 0.0237 - accuracy: 0.9954 - val_loss: 0.0039 - val_accuracy: 1.0000\n",
      "Epoch 39/300\n",
      "2400/2400 [==============================] - 3s 1ms/step - loss: 0.0295 - accuracy: 0.9917 - val_loss: 0.0858 - val_accuracy: 0.9600\n",
      "Epoch 40/300\n",
      "2400/2400 [==============================] - 3s 1ms/step - loss: 0.0347 - accuracy: 0.9908 - val_loss: 0.0038 - val_accuracy: 1.0000\n",
      "Epoch 41/300\n",
      "2400/2400 [==============================] - 3s 1ms/step - loss: 0.0243 - accuracy: 0.9946 - val_loss: 0.0213 - val_accuracy: 0.9917\n",
      "Epoch 42/300\n",
      "2400/2400 [==============================] - 3s 1ms/step - loss: 0.0261 - accuracy: 0.9950 - val_loss: 0.0040 - val_accuracy: 1.0000\n",
      "Epoch 43/300\n",
      "2400/2400 [==============================] - 3s 1ms/step - loss: 0.0644 - accuracy: 0.9879 - val_loss: 0.0053 - val_accuracy: 1.0000\n",
      "Epoch 44/300\n",
      "2400/2400 [==============================] - 3s 1ms/step - loss: 0.0599 - accuracy: 0.9925 - val_loss: 0.0029 - val_accuracy: 1.0000\n",
      "Epoch 45/300\n",
      "2400/2400 [==============================] - 3s 1ms/step - loss: 0.0402 - accuracy: 0.9933 - val_loss: 0.0024 - val_accuracy: 1.0000\n"
     ]
    }
   ],
   "source": [
    "from tensorflow.keras import regularizers\n",
    "\n",
    "# FEEDFORWARD NEURAL NETWORK\n",
    "acc = 0.0\n",
    "count = 0\n",
    "while acc < 0.97 and count < 3:\n",
    "    mc =  EarlyStopping(monitor='accuracy', min_delta=0, patience=10, restore_best_weights=True)\n",
    "\n",
    "    set_parameters(batch_size=1, epochs=300)\n",
    "\n",
    "    input = tf.keras.Input(shape=(2,))\n",
    "    hidden = tf.keras.layers.Dense(32, activation='relu')(input)\n",
    "    hidden2 = tf.keras.layers.Dense(16, activation='relu')(hidden)\n",
    "    hidden3 = tf.keras.layers.Dense(8, activation='relu')(hidden2)\n",
    "    hidden4 = tf.keras.layers.Dense(8, activation='relu')(hidden3)\n",
    "    output = tf.keras.layers.Dense(3, activation='softmax')(hidden4)\n",
    "    model = tf.keras.Model(inputs=input, outputs=output)\n",
    "    #model.summary()\n",
    "    opt = tf.keras.optimizers.Adam(learning_rate=0.001)\n",
    "    model.compile(optimizer=opt,\n",
    "                loss='sparse_categorical_crossentropy',\n",
    "                metrics=['accuracy'])\n",
    "    history = model.fit(x_train, y_train, verbose=1, epochs=EPOCHS, validation_data=(val_data[features_train], val_data['Category']), batch_size=BATCH_SIZE, callbacks=[mc])\n",
    "    acc = history.history['val_accuracy'][-1]\n",
    "    count += 1"
   ]
  },
  {
   "cell_type": "code",
   "execution_count": 52,
   "metadata": {},
   "outputs": [
    {
     "data": {
      "image/png": "[encoded data removed]",
      "text/plain": [
       "<Figure size 1700x500 with 2 Axes>"
      ]
     },
     "metadata": {},
     "output_type": "display_data"
    }
   ],
   "source": [
    "epoch_count = range(1, len(history.history['loss']) + 1)\n",
    "fig, axis = plt.subplots(1,2,figsize=(17,5))\n",
    "axis[0].plot(list(epoch_count),history.history['val_loss'],color='b')\n",
    "axis[1].plot(list(epoch_count),history.history['val_accuracy'],color='b')\n",
    "axis[0].set_title(\"Epochs vs. Loss\")\n",
    "axis[1].set_title(\"Epochs vs. Accuracy\")\n",
    "plt.tight_layout()\n",
    "plt.show()"
   ]
  },
  {
   "cell_type": "code",
   "execution_count": 11,
   "metadata": {},
   "outputs": [],
   "source": [
    "if TEST_SIZE > 0:\n",
    "    # Generate probability predictions on the test set\n",
    "    test_prob_predictions = model.predict(test_data)\n",
    "\n",
    "    # Get the predicted class for each instance\n",
    "    test_predictions = test_prob_predictions.argmax(axis=1)\n",
    "\n",
    "    # Evaluate the predictions using a suitable metric\n",
    "    from sklearn.metrics import accuracy_score\n",
    "    test_accuracy = accuracy_score(test_labels, test_predictions)\n",
    "\n",
    "    # Print the test accuracy\n",
    "    print(f\"Test accuracy: {test_accuracy}\")"
   ]
  },
  {
   "cell_type": "code",
   "execution_count": 28,
   "metadata": {},
   "outputs": [
    {
     "name": "stdout",
     "output_type": "stream",
     "text": [
      "Model: \"model_6\"\n",
      "_________________________________________________________________\n",
      " Layer (type)                Output Shape              Param #   \n",
      "=================================================================\n",
      " input_6 (InputLayer)        [(None, 2)]               0         \n",
      "                                                                 \n",
      " dense_14 (Dense)            (None, 4)                 12        \n",
      "                                                                 \n",
      " dense_15 (Dense)            (None, 4)                 20        \n",
      "                                                                 \n",
      " dense_16 (Dense)            (None, 3)                 15        \n",
      "                                                                 \n",
      "=================================================================\n",
      "Total params: 47\n",
      "Trainable params: 47\n",
      "Non-trainable params: 0\n",
      "_________________________________________________________________\n",
      "WARNING:tensorflow:Compiled the loaded model, but the compiled metrics have yet to be built. `model.compile_metrics` will be empty until you train or evaluate the model.\n"
     ]
    }
   ],
   "source": [
    "model_guardar = tf.keras.Model(inputs=input, outputs=output) \n",
    "model_guardar.summary()\n",
    "model_guardar.save('model.h5')"
   ]
  },
  {
   "cell_type": "code",
   "execution_count": 36,
   "metadata": {},
   "outputs": [
    {
     "name": "stdout",
     "output_type": "stream",
     "text": [
      "(1500, 2)\n",
      "47/47 [==============================] - 0s 1ms/step\n"
     ]
    }
   ],
   "source": [
    "if 'Id' in test_data_final.columns:\n",
    "    test_data_final = test_data_final.drop(['Id'], axis=1)\n",
    "    print(\"id eliminado\")\n",
    "\n",
    "\n",
    "print(test_data_final.shape)\n",
    "\n",
    "predictions = model.predict(test_data_final)\n",
    "predictions\n",
    "\n",
    "#predecir clase del primer elemento en test_data\n",
    "predictions[0]\n",
    "np.argmax(predictions[0])\n",
    "\n",
    "len_test_data = len(test_data_final)\n",
    "\n",
    "f = open('pred.csv', 'w+')\n",
    "f.write('Id,Category\\n')\n",
    "\n",
    "for i in range(len_test_data):\n",
    "    f.write(str(i) + \",\" + str(np.argmax(predictions[i])) + '\\n')\n",
    "\n",
    "f.close()"
   ]
  },
  {
   "cell_type": "code",
   "execution_count": 23,
   "metadata": {},
   "outputs": [
    {
     "name": "stdout",
     "output_type": "stream",
     "text": [
      "Trial 65 Complete [00h 00m 01s]\n",
      "val_accuracy: 0.4000000059604645\n",
      "\n",
      "Best val_accuracy So Far: 0.5649999976158142\n",
      "Total elapsed time: 00h 01m 11s\n",
      "INFO:tensorflow:Oracle triggered exit\n",
      "{'num_layers': 2, 'units_1': 5, 'learning_rate': 0.01, 'units_2': 2, 'tuner/epochs': 2, 'tuner/initial_epoch': 0, 'tuner/bracket': 4, 'tuner/round': 0}.\n"
     ]
    }
   ],
   "source": [
    "# USING KERAS TUNER\n",
    "\n",
    "def modelo_a_tunear(tuner):\n",
    "  # Capas del modelo\n",
    "  input = tf.keras.Input(shape=(2))\n",
    "  for i in range(1, tuner.Int(\"num_layers\", 2, 3)):\n",
    "    if i==1:\n",
    "      x = tf.keras.layers.Dense(units=tuner.Int(\"units_\" + str(i), min_value=2, max_value=5, step=1),\n",
    "              activation='swish')(input)\n",
    "    else:\n",
    "      x = tf.keras.layers.Dense(units=tuner.Int(\"units_\" + str(i), min_value=2, max_value=5, step=1),\n",
    "              activation='swish')(x)\n",
    "  outputs_tunner = tf.keras.layers.Dense(3, activation='softmax')(x)\n",
    "  # Modelo\n",
    "  model_tunner = tf.keras.Model(inputs=input, outputs=outputs_tunner)\n",
    "  # Learning Rate\n",
    "  learning_rate_tuneada = tuner.Choice(\"learning_rate\", values=[0.1, 0.01])\n",
    "  model_tunner.compile(optimizer=tf.keras.optimizers.Adam(learning_rate=learning_rate_tuneada),\n",
    "                  loss=tf.keras.losses.SparseCategoricalCrossentropy(),\n",
    "                  metrics=[\"accuracy\"])\n",
    "  return model_tunner\n",
    "\n",
    "hypertuner = kt.Hyperband(modelo_a_tunear,\n",
    "                     objective='val_accuracy',\n",
    "                     max_epochs=100,\n",
    "                     factor=3,\n",
    "                     directory='.',\n",
    "                     project_name='optimal_values')\n",
    "\n",
    "\n",
    "stop_early = tf.keras.callbacks.EarlyStopping(monitor='val_loss', patience=10)\n",
    "\n",
    "hypertuner.search(x_train, y_train, epochs=100, validation_data=(val_data[features_train], val_data['Category']), callbacks=[stop_early])\n",
    "\n",
    "# Get the optimal hyperparameters\n",
    "best_hps=hypertuner.get_best_hyperparameters(num_trials=100)[0]\n",
    "\n",
    "print(f\"\"\"{best_hps.values}.\"\"\")"
   ]
  }
 ],
 "metadata": {
  "kernelspec": {
   "display_name": "Python 3",
   "language": "python",
   "name": "python3"
  },
  "language_info": {
   "codemirror_mode": {
    "name": "ipython",
    "version": 3
   },
   "file_extension": ".py",
   "mimetype": "text/x-python",
   "name": "python",
   "nbconvert_exporter": "python",
   "pygments_lexer": "ipython3",
   "version": "3.10.5"
  },
  "orig_nbformat": 4
 },
 "nbformat": 4,
 "nbformat_minor": 2
}
